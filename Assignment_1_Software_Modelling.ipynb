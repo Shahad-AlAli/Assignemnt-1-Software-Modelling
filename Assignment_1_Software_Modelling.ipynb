{
  "nbformat": 4,
  "nbformat_minor": 0,
  "metadata": {
    "colab": {
      "provenance": [],
      "authorship_tag": "ABX9TyPezYdzHpWzQ4c2mjaVUGGk",
      "include_colab_link": true
    },
    "kernelspec": {
      "name": "python3",
      "display_name": "Python 3"
    },
    "language_info": {
      "name": "python"
    }
  },
  "cells": [
    {
      "cell_type": "markdown",
      "metadata": {
        "id": "view-in-github",
        "colab_type": "text"
      },
      "source": [
        "<a href=\"https://colab.research.google.com/github/Shahad-AlAli/Assignemnt-1-Software-Modelling/blob/main/Assignment_1_Software_Modelling.ipynb\" target=\"_parent\"><img src=\"https://colab.research.google.com/assets/colab-badge.svg\" alt=\"Open In Colab\"/></a>"
      ]
    },
    {
      "cell_type": "code",
      "execution_count": 27,
      "metadata": {
        "id": "zBhH_J-kcK8s"
      },
      "outputs": [],
      "source": [
        "from enum import Enum\n",
        "class Gender(Enum):\n",
        "    Male = 1\n",
        "    Female = 2\n",
        "\n",
        "\n",
        "class Person:\n",
        "    def __init__(self, firstName, lastName, cellPhoneNumber, gender, age):\n",
        "        self.firstName = firstName\n",
        "        self.lastName = lastName\n",
        "        self.cellPhoneNumber = cellPhoneNumber\n",
        "        self.gender = gender\n",
        "        self.age = age\n",
        "\n",
        "    def setFirstName(self, firstName):\n",
        "        self.firstName = firstName\n",
        "    def getFirstName(self):\n",
        "        return self.firstName\n",
        "    def setlastName(self, lastName):\n",
        "        self.lastName = lastName\n",
        "    def getlastName(self):\n",
        "        return self.lastName\n",
        "    def setcellPhoneNumber(self, cellPhoneNumber):\n",
        "        self.cellPhoneNumber = cellPhoneNumber\n",
        "    def getcellPhoneNumber(self):\n",
        "        return self.cellPhoneNumber\n",
        "    def setgender(self, gender):\n",
        "        self.gender = gender\n",
        "    def getgender(self):\n",
        "        return self.gender\n",
        "    def setage(self, age):\n",
        "        self.age = age\n",
        "    def getage(self):\n",
        "        return self.age\n",
        "\n",
        "    def __str__(self):\n",
        "        return (\"First Name: \"+ self.firstName+ \", Last Name: \"+ self.lastName+ \", Cell Phone Number:\"+ self.cellPhoneNumber+ \", Gender: \"+ self.gender+ \" , Age: \"+ str(self.age))\n",
        "\n",
        "\n",
        "class PaymentMethod(Enum):\n",
        "    cash = 1\n",
        "    creditCard = 2\n",
        "\n",
        "\n",
        "class Address(Enum):\n",
        "    AbuDhabi = 1\n",
        "    Dubai = 2\n",
        "    Sharjah = 3\n",
        "    Ajman = 4\n",
        "    UmmAlQuwain = 5\n",
        "    RasAlKhaimah = 6\n",
        "    Fujairah = 7\n",
        "\n",
        "\n",
        "class Customer(Person):\n",
        "    def __init__(self, firstName, lastName, cellPhoneNumber, gender, age, ID, email, paymentMethod, address, appointmentDate):\n",
        "        Person.__init__(self, firstName, lastName, cellPhoneNumber, gender, age)\n",
        "        self.ID = ID\n",
        "        self.email = email\n",
        "        self.paymentMethod = paymentMethod\n",
        "        self.address = address\n",
        "        self.appointmentDate = appointmentDate\n",
        "\n",
        "    def __str__(self):\n",
        "      return Person.__str__(self) + \", ID: \"+self.ID+ \", email:\" +self.email+ \", Payment Method:\" +self.paymentMethod+ \", Address:\" +self.address+ \", Appointment Date:\" +self.appointmentDate\n",
        "\n",
        "class VehicleType(Enum):\n",
        "  Nissan = 1\n",
        "  Toyota = 2\n",
        "  Mercedes = 3\n",
        "  Audi = 4\n",
        "  BMW = 5\n",
        "\n",
        "\n",
        "class VehicleColor(Enum):\n",
        "  White = 1\n",
        "  Black = 2\n",
        "  Silver = 3\n",
        "  Gray = 4\n",
        "  Red = 5\n",
        "\n",
        "\n",
        "class Vehicle:\n",
        "  def __init__(self, vehicleType, vehicleName, vehicleColor, vehicleID, vehicleYear):\n",
        "    self.vehicleType = vehicleType\n",
        "    self.vehicleName = vehicleName\n",
        "    self.vehicleColor = vehicleColor\n",
        "    self.vehicleID = vehicleID\n",
        "    self.vehicleYear = vehicleYear\n",
        "\n",
        "  def setvehicleType(self, vehicleType):\n",
        "    self.vehicleType = vehicleType\n",
        "  def getvehicleType(self):\n",
        "    return self.vehicleType\n",
        "  def setvehicleName(self, vehicleName):\n",
        "    self.vehicleName = vehicleName\n",
        "  def getvehicleName(self):\n",
        "    return self.vehicleName\n",
        "  def setvehicleColor(self, vehicleColor):\n",
        "    self.vehicleColor = vehicleColor\n",
        "  def getvehicleColor(self):\n",
        "    return self.vehicleColor\n",
        "  def setvehicleID(self, vehicleID):\n",
        "    self.vehicleID = vehicleID\n",
        "  def getvehicleID(self):\n",
        "    return self.vehicleID\n",
        "  def setvehicleYear(self, vehicleYear):\n",
        "    self.vehicleYear = vehicleYear\n",
        "  def getvehicleYear(self):\n",
        "    return self.vehicleYear\n",
        "\n",
        "  def __str__(self):\n",
        "    return (\" Vehicle Type: \"+self.vehicleType+ \", Vehicle Name:\" +self.vehicleName+ \", Vehicle Color:\" +self.vehicleColor+ \", Vehicle ID:\" +self.vehicleID+ \", Vehicle Year:\" +self.vehicleYear)\n",
        "\n",
        "\n",
        "class Diagnostics(Enum):\n",
        "  Yes = 15\n",
        "  No = 0\n",
        "\n",
        "\n",
        "class OilReplacement(Enum):\n",
        "  Yes = 120\n",
        "  No = 0\n",
        "\n",
        "\n",
        "class OilFilterParts(Enum):\n",
        "  Yes = 35\n",
        "  No = 0\n",
        "\n",
        "\n",
        "class TireReplacement(Enum):\n",
        "  OneTire = 50\n",
        "  TwoTires = 100\n",
        "  ThreeTires = 150\n",
        "  FourTires = 200\n",
        "  SixTires = 300\n",
        "\n",
        "\n",
        "class Tire(Enum):\n",
        "  OneTire = 80\n",
        "  TwoTires = 160\n",
        "  ThreeTires = 240\n",
        "  FourTires = 320\n",
        "  SixTires = 480\n",
        "\n",
        "\n",
        "class Services:\n",
        "  def __init__(self, diagnostics, oilReplacement, oilFilterParts, tireReplacement, tire):\n",
        "    self.diagnostics = diagnostics\n",
        "    self.oilReplacement = oilReplacement\n",
        "    self.oilFilterParts = oilFilterParts\n",
        "    self.tireReplacement = tireReplacement\n",
        "    self.tire = tire\n",
        "\n",
        "  def setDiagnostics(self, diagnostics):\n",
        "    self.diagnostics = diagnostics\n",
        "  def getDiagnostics(self):\n",
        "    return self.diagnostics\n",
        "  def setOilReplacement(self, oilReplacement):\n",
        "    self.oilReplacement = oilReplacement\n",
        "  def getOilReplacement(self):\n",
        "    return self.oilReplacement\n",
        "  def setOilFilterParts(self, oilFilterParts):\n",
        "    self.oilFilterParts = oilFilterParts\n",
        "  def getOilFilterParts(self):\n",
        "    return self.oilFilterParts\n",
        "  def setTireReplacement(self, tireReplacement):\n",
        "    self.tireReplacement = tireReplacement\n",
        "  def getTireReplacement(self):\n",
        "    return self.tireReplacement\n",
        "  def setTire(self, tire):\n",
        "    self.tire = tire\n",
        "  def getTire(self):\n",
        "    return self.tire\n",
        "    \n",
        "  def __str__(self):\n",
        "    return (\"Diagnostics: \"+self.diagnostics+ \", Oil Replacement:\" +self.oilReplacement+ \", Oil Filter Parts:\" +self.oilFilterParts+ \", Tire Replacement:\" +self.tireReplacement+ \", Tire:\" +self.tire)"
      ]
    },
    {
      "cell_type": "code",
      "source": [
        "Mechanic = Person(\"Saeed\", \"Al Shamsi\",\"+971504675346\", \"Male\", \"34\" )\n",
        "print(Mechanic)"
      ],
      "metadata": {
        "colab": {
          "base_uri": "https://localhost:8080/"
        },
        "id": "XBaLHdy9dPt-",
        "outputId": "1fdf9d3d-b398-4700-fff1-0ae3a9e0f3be"
      },
      "execution_count": 6,
      "outputs": [
        {
          "output_type": "stream",
          "name": "stdout",
          "text": [
            "First Name: Saeed, Last Name: Al Shamsi, Cell Phone Number:+971504675346, Gender: Male , Age: 34\n"
          ]
        }
      ]
    },
    {
      "cell_type": "code",
      "source": [
        "Hazza = Customer(\"Hazza\", \"Al Naqbi\", \"+971506672889\", \"Male\", \"21\", \"784-2002-1234567-0\", \"Hazza2002@gmail.com\", \"creditCard\",\"UmmAlQuwain\",\"15/3/2023\")\n",
        "print(Hazza)"
      ],
      "metadata": {
        "colab": {
          "base_uri": "https://localhost:8080/"
        },
        "id": "dyM2ONAmdOVc",
        "outputId": "a137997c-935a-4a5f-f69b-44c81117a82c"
      },
      "execution_count": 7,
      "outputs": [
        {
          "output_type": "stream",
          "name": "stdout",
          "text": [
            "First Name: Hazza, Last Name: Al Naqbi, Cell Phone Number:+971506672889, Gender: Male , Age: 21, ID: 784-2002-1234567-0, email:Hazza2002@gmail.com, Payment Method:creditCard, Address:UmmAlQuwain, Appointment Date:15/3/2023\n"
          ]
        }
      ]
    },
    {
      "cell_type": "code",
      "source": [
        "Nissan = Vehicle(\"Nissan\", \"Altima\", \"Silver\", \"AD-89034\", \"2013\")\n",
        "print(Nissan)"
      ],
      "metadata": {
        "colab": {
          "base_uri": "https://localhost:8080/"
        },
        "id": "Sa3bgWdIdttS",
        "outputId": "c92ae46f-333d-408a-d5b1-7af2978437e4"
      },
      "execution_count": 4,
      "outputs": [
        {
          "output_type": "stream",
          "name": "stdout",
          "text": [
            " Vehicle Type: Nissan, Vehicle Name:Altima, Vehicle Color:Silver, Vehicle ID:AD-89034, Vehicle Year:2013\n"
          ]
        }
      ]
    },
    {
      "cell_type": "code",
      "source": [
        "Service1 = Services(\"Yes\", \"Yes\", \"Yes\", \"TwoTires\", \"TwoTires\")\n",
        "print(Service1)"
      ],
      "metadata": {
        "colab": {
          "base_uri": "https://localhost:8080/"
        },
        "id": "hj53KOepd-lP",
        "outputId": "2a4d6b12-f083-4469-b20b-8ed2e09dad18"
      },
      "execution_count": 28,
      "outputs": [
        {
          "output_type": "stream",
          "name": "stdout",
          "text": [
            "Diagnostics: Yes, Oil Replacement:Yes, Oil Filter Parts:Yes, Tire Replacement:TwoTires, Tire:TwoTires\n"
          ]
        }
      ]
    }
  ]
}